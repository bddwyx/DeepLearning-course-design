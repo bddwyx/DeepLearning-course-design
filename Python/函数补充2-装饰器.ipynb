{
 "cells": [
  {
   "cell_type": "markdown",
   "metadata": {},
   "source": [
    "- 简单demo示例 银行后台存取功能"
   ]
  },
  {
   "cell_type": "code",
   "execution_count": 1,
   "metadata": {},
   "outputs": [
    {
     "name": "stdout",
     "output_type": "stream",
     "text": [
      "存款中\n"
     ]
    }
   ],
   "source": [
    "def deposit():\n",
    "    print('存款中')\n",
    "def withdrawal():\n",
    "    print('取款中')\n",
    "    \n",
    "button = 1\n",
    "if button == 1:\n",
    "    deposit()\n",
    "else:\n",
    "    withdrawal()\n"
   ]
  },
  {
   "cell_type": "code",
   "execution_count": 2,
   "metadata": {},
   "outputs": [
    {
     "name": "stdout",
     "output_type": "stream",
     "text": [
      "取款中\n"
     ]
    }
   ],
   "source": [
    "def deposit():\n",
    "    print('存款中')\n",
    "def withdrawal():\n",
    "    print('取款中')\n",
    "    \n",
    "button = 2\n",
    "if button == 1:\n",
    "    deposit()\n",
    "else:\n",
    "    withdrawal()\n"
   ]
  },
  {
   "cell_type": "markdown",
   "metadata": {},
   "source": [
    "- 添加密码验证功能"
   ]
  },
  {
   "cell_type": "code",
   "execution_count": null,
   "metadata": {},
   "outputs": [],
   "source": [
    "def deposit():\n",
    "    print('存款中')\n",
    "def withdrawal():\n",
    "    print('取款中')\n",
    "def check_password():\n",
    "    print('密码验证中....')\n",
    "\n",
    "    \n",
    "button = 2\n",
    "if button == 1:\n",
    "    check_password()\n",
    "    deposit()\n",
    "else:\n",
    "    check_password()\n",
    "    withdrawal()"
   ]
  },
  {
   "cell_type": "markdown",
   "metadata": {},
   "source": [
    "- 添加密码功能（2）让应用代码更简洁"
   ]
  },
  {
   "cell_type": "code",
   "execution_count": null,
   "metadata": {},
   "outputs": [],
   "source": [
    "def deposit():\n",
    "    check_password()\n",
    "    print('存款中')\n",
    "def withdrawal():\n",
    "    check_password()\n",
    "    print('取款中')\n",
    "def check_password():\n",
    "    print('密码验证中....')\n",
    "    \n",
    "button = 2\n",
    "if button == 1:\n",
    "    deposit()\n",
    "else:\n",
    "    withdrawal()"
   ]
  },
  {
   "cell_type": "markdown",
   "metadata": {},
   "source": [
    "- 使用回调函数，简化底层代码"
   ]
  },
  {
   "cell_type": "code",
   "execution_count": null,
   "metadata": {},
   "outputs": [],
   "source": [
    "def check_password(func):\n",
    "    print(\"密码验证中...\")\n",
    "    func()\n",
    "    \n",
    "def deposit():\n",
    "    print(\"存款中...\")\n",
    "    \n",
    "def withdrawal():\n",
    "    print(\"取款中...\")\n",
    "\n",
    "button = 2\n",
    "if button == 1:\n",
    "    check_password(deposit)\n",
    "    #deposit()\n",
    "else:\n",
    "    check_password(withdrawal)"
   ]
  },
  {
   "cell_type": "markdown",
   "metadata": {},
   "source": [
    "- 不想动业务代码，为了直接调用，于是出现了装饰器雏形..."
   ]
  },
  {
   "cell_type": "code",
   "execution_count": 1,
   "metadata": {},
   "outputs": [
    {
     "name": "stdout",
     "output_type": "stream",
     "text": [
      "密码验证中...\n",
      "存款中...\n",
      "密码验证中...\n",
      "取款中...\n"
     ]
    },
    {
     "ename": "TypeError",
     "evalue": "'NoneType' object is not callable",
     "output_type": "error",
     "traceback": [
      "\u001b[1;31m---------------------------------------------------------------------------\u001b[0m",
      "\u001b[1;31mTypeError\u001b[0m                                 Traceback (most recent call last)",
      "\u001b[1;32m<ipython-input-1-8d2aff04993b>\u001b[0m in \u001b[0;36m<module>\u001b[1;34m\u001b[0m\n\u001b[0;32m     14\u001b[0m \u001b[0mbutton\u001b[0m \u001b[1;33m=\u001b[0m \u001b[1;36m1\u001b[0m\u001b[1;33m\u001b[0m\u001b[1;33m\u001b[0m\u001b[0m\n\u001b[0;32m     15\u001b[0m \u001b[1;32mif\u001b[0m \u001b[0mbutton\u001b[0m \u001b[1;33m==\u001b[0m \u001b[1;36m1\u001b[0m\u001b[1;33m:\u001b[0m\u001b[1;33m\u001b[0m\u001b[1;33m\u001b[0m\u001b[0m\n\u001b[1;32m---> 16\u001b[1;33m     \u001b[0mdeposit\u001b[0m\u001b[1;33m(\u001b[0m\u001b[1;33m)\u001b[0m\u001b[1;33m\u001b[0m\u001b[1;33m\u001b[0m\u001b[0m\n\u001b[0m\u001b[0;32m     17\u001b[0m \u001b[1;32melse\u001b[0m\u001b[1;33m:\u001b[0m\u001b[1;33m\u001b[0m\u001b[1;33m\u001b[0m\u001b[0m\n\u001b[0;32m     18\u001b[0m     \u001b[0mwithdrawal\u001b[0m\u001b[1;33m(\u001b[0m\u001b[1;33m)\u001b[0m\u001b[1;33m\u001b[0m\u001b[1;33m\u001b[0m\u001b[0m\n",
      "\u001b[1;31mTypeError\u001b[0m: 'NoneType' object is not callable"
     ]
    }
   ],
   "source": [
    "def check_password(func):\n",
    "    print(\"密码验证中...\")\n",
    "    func()\n",
    "    \n",
    "def deposit():\n",
    "    print(\"存款中...\")\n",
    "    \n",
    "def withdrawal():\n",
    "    print(\"取款中...\")\n",
    "    \n",
    "deposit = check_password(deposit)    \n",
    "withdrawal = check_password(withdrawal)   \n",
    "\n",
    "button = 1\n",
    "if button == 1:\n",
    "    deposit()\n",
    "else: \n",
    "    withdrawal()"
   ]
  },
  {
   "cell_type": "code",
   "execution_count": 2,
   "metadata": {},
   "outputs": [
    {
     "name": "stdout",
     "output_type": "stream",
     "text": [
      "密码验证中...\n",
      "取款中...\n"
     ]
    }
   ],
   "source": [
    "# 易懂的装饰器简例\n",
    "def check_password(func):\n",
    "    def inner():\n",
    "        print(\"密码验证中...\")\n",
    "        func()\n",
    "    return inner\n",
    "    \n",
    "def deposit():\n",
    "    print(\"存款中...\")\n",
    "    \n",
    "def withdrawal():\n",
    "    print(\"取款中...\")\n",
    "    \n",
    "deposit = check_password(deposit)    \n",
    "withdrawal = check_password(withdrawal)    \n",
    "\n",
    "button = 2\n",
    "if button == 1:\n",
    "    deposit()\n",
    "else:\n",
    "    withdrawal()"
   ]
  },
  {
   "cell_type": "code",
   "execution_count": 4,
   "metadata": {},
   "outputs": [
    {
     "name": "stdout",
     "output_type": "stream",
     "text": [
      "密码验证中...\n",
      "取款中...\n"
     ]
    }
   ],
   "source": [
    "#语法糖\n",
    "def check_password(func):\n",
    "    def inner():\n",
    "        print(\"密码验证中...\")\n",
    "        func()\n",
    "    return inner\n",
    "\n",
    "@check_password      #deposit = check_password(deposit)\n",
    "def deposit():\n",
    "    print(\"存款中...\")\n",
    "@check_password      #withdrawal = check_password(withdrawal)  \n",
    "def withdrawal():\n",
    "    print(\"取款中...\")\n",
    "      \n",
    "button = 2\n",
    "if button == 1:\n",
    "    deposit()\n",
    "else:\n",
    "    withdrawal()"
   ]
  },
  {
   "cell_type": "markdown",
   "metadata": {},
   "source": [
    "---------- summary python装饰器本质上就是一个函数，它可以让其他函数在不需要做任何代码变动的前提下增加额外的功能，装饰器的返回值也是一个函数对象（函数的指针）。装饰器函数的外部函数传入我要装饰的函数名字，返回经过修饰后函数的名字；内层函数（闭包）负责修饰被修饰函数。从上面这段描述中我们需要记住装饰器的几点属性，以便后面能更好的理解：\n",
    "\n",
    "　　　　实质： 是一个函数\n",
    "\n",
    "　　　　参数：是你要装饰的函数名（并非函数调用）\n",
    "\n",
    "　　　　返回：是装饰完的函数名（也非函数调用）\n",
    "\n",
    "　　　　作用：为已经存在的对象添加额外的功能\n",
    "\n",
    "　　　　特点：不需要对对象做任何的代码上的变动\n",
    "\n",
    "python装饰器有很多经典的应用场景，比如：插入日志、性能测试、事务处理、权限校验等。装饰器是解决这类问题的绝佳设计。并且从引入中的列子中我们也可以归纳出：装饰器最大的作用就是对于我们已经写好的程序，我们可以抽离出一些雷同的代码组建多个特定功能的装饰器，这样我们就可以针对不同的需求去使用特定的装饰器，这时因为源码去除了大量泛化的内容而使得源码具有更加清晰的逻辑。"
   ]
  },
  {
   "cell_type": "markdown",
   "metadata": {},
   "source": [
    "## 练习：统计函数的执行时间"
   ]
  },
  {
   "cell_type": "code",
   "execution_count": 8,
   "metadata": {},
   "outputs": [
    {
     "name": "stdout",
     "output_type": "stream",
     "text": [
      "None\n"
     ]
    }
   ],
   "source": [
    "import time\n",
    "\n",
    "def function():\n",
    "    time.sleep(0.8)\n",
    "\n",
    "function() # 函数调用\n",
    "print(function())"
   ]
  },
  {
   "cell_type": "markdown",
   "metadata": {},
   "source": [
    "- 装饰器装饰有参函数"
   ]
  },
  {
   "cell_type": "code",
   "execution_count": 12,
   "metadata": {},
   "outputs": [
    {
     "name": "stdout",
     "output_type": "stream",
     "text": [
      "0.8004000186920166\n"
     ]
    }
   ],
   "source": [
    "import time\n",
    "\n",
    "def decorator(function):\n",
    "    \n",
    "    def inner():\n",
    "        start_time = time.time()\n",
    "        function()\n",
    "        end_time = time.time()\n",
    "        print(end_time - start_time)\n",
    "\n",
    "    return inner\n",
    "\n",
    "@decorator \n",
    "def function():\n",
    "    time.sleep(0.8)\n",
    "\n",
    "function() # 函数调用"
   ]
  },
  {
   "cell_type": "markdown",
   "metadata": {},
   "source": [
    "- 装饰器返回值"
   ]
  },
  {
   "cell_type": "code",
   "execution_count": 18,
   "metadata": {},
   "outputs": [
    {
     "name": "stdout",
     "output_type": "stream",
     "text": [
      "我是新增功能\n",
      "hhhh 2333\n",
      "我是新增功能\n",
      "give me 5\n",
      "['hhhh', 5]\n"
     ]
    }
   ],
   "source": [
    "def celebrator(fun):\n",
    "    def inner(*args):       #inner必须有参数才能传参,*args，**kwargs可装饰更多函数\n",
    "        print(\"我是新增功能\")\n",
    "        ret = fun(*args)\n",
    "        return ret\n",
    "    return inner\n",
    "\n",
    "\n",
    "@celebrator #myprint1  = celebrator(myprint1)   myprint1 = inner; \n",
    "def myprint1(a,b):\n",
    "    print(a,b)\n",
    "    return a \n",
    "\n",
    "@celebrator\n",
    "def myprint2(a,b):\n",
    "    print(a,b)\n",
    "    return b\n",
    "\n",
    "res1 = myprint1(\"hhhh\",2333) #myprint1() = inner()\n",
    "res2 = myprint2(\"give me\",5)\n",
    "\n",
    "print([res1,res2])\n"
   ]
  },
  {
   "cell_type": "markdown",
   "metadata": {},
   "source": [
    "- 双重语法糖,多层嵌套装饰器（闭包函数）"
   ]
  },
  {
   "cell_type": "code",
   "execution_count": 19,
   "metadata": {},
   "outputs": [
    {
     "name": "stdout",
     "output_type": "stream",
     "text": [
      "===============\n",
      "***************\n",
      "哈哈哈\n"
     ]
    }
   ],
   "source": [
    "def printequal(func):\n",
    "    def inner1():\n",
    "        print(\"=\"*15)\n",
    "        func()\n",
    "    return inner1\n",
    "   \n",
    "def printstar(func):\n",
    "    def inner2():\n",
    "        print(\"*\"*15)\n",
    "        func()\n",
    "    return inner2\n",
    "\n",
    "@printequal   #--> myprint printequal(inner2)    return inner1    func:inner2\n",
    "@printstar  # --> myprint = printstar(myprint)   retrun inner2   func:myprint\n",
    "def myprint():\n",
    "    print(\"哈哈哈\") \n",
    "\n",
    "myprint()"
   ]
  },
  {
   "cell_type": "markdown",
   "metadata": {},
   "source": [
    "## 理解程序过程 执行顺序探究"
   ]
  },
  {
   "cell_type": "code",
   "execution_count": 14,
   "metadata": {},
   "outputs": [
    {
     "name": "stdout",
     "output_type": "stream",
     "text": [
      "!!!!\n",
      "aaaa\n",
      "1111\n",
      "2222\n",
      "bbbb\n",
      "####\n",
      "test test\n",
      "****\n",
      "cccc\n",
      "3333\n"
     ]
    }
   ],
   "source": [
    "#思考，输出是什么？\n",
    "def dec1(func):  \n",
    "    print(\"1111\")\n",
    "    def one():\n",
    "        print(\"2222\")\n",
    "        func()\n",
    "        print(\"3333\")\n",
    "    return one\n",
    "\n",
    "def dec2(func):   \n",
    "    print(\"aaaa\")\n",
    "    def two():\n",
    "        print(\"bbbb\")\n",
    "        func()\n",
    "        print(\"cccc\")\n",
    "    return two\n",
    "\n",
    "def dec3(func):    \n",
    "    print(\"!!!!\")\n",
    "    def three():\n",
    "        print(\"####\")\n",
    "        func()\n",
    "        print(\"****\")\n",
    "    return three\n",
    "\n",
    "@dec1         \n",
    "@dec2        \n",
    "@dec3        \n",
    "def test():\n",
    "    print(\"test test\")\n",
    "  \n",
    "test()"
   ]
  },
  {
   "cell_type": "markdown",
   "metadata": {},
   "source": [
    "- 自学 带参数的装饰糖"
   ]
  }
 ],
 "metadata": {
  "kernelspec": {
   "display_name": "Python 3",
   "language": "python",
   "name": "python3"
  },
  "language_info": {
   "codemirror_mode": {
    "name": "ipython",
    "version": 3
   },
   "file_extension": ".py",
   "mimetype": "text/x-python",
   "name": "python",
   "nbconvert_exporter": "python",
   "pygments_lexer": "ipython3",
   "version": "3.8.3"
  }
 },
 "nbformat": 4,
 "nbformat_minor": 2
}
