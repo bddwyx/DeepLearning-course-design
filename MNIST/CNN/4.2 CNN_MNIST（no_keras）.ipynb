{
 "cells": [
  {
   "cell_type": "markdown",
   "metadata": {},
   "source": [
    "# 卷积实现手写数字体识别\n",
    "- 本demo主要通过卷积的方式实现\n",
    "- 本demo没有使用keras等高层api"
   ]
  },
  {
   "cell_type": "markdown",
   "metadata": {},
   "source": [
    "### 1.库及函数准备\n",
    "- 导入相关package tf\n",
    "- 定义了2个函数，weight_variable/bias_variable，分别用来后续初始化w，b\n",
    "- 定义了2个函数，conv2d/max_pool_2x2，分别用来做卷积和池化\n",
    "- 本demo会话开启，使用的是交互式的`sess = tf.InteractiveSession()`,请注意这种方式的使用语法"
   ]
  },
  {
   "cell_type": "code",
   "execution_count": 1,
   "metadata": {},
   "outputs": [
    {
     "name": "stderr",
     "output_type": "stream",
     "text": [
      "C:\\Users\\bddwy\\anaconda3\\envs\\tfboy\\lib\\site-packages\\tensorflow\\python\\framework\\dtypes.py:526: FutureWarning: Passing (type, 1) or '1type' as a synonym of type is deprecated; in a future version of numpy, it will be understood as (type, (1,)) / '(1,)type'.\n",
      "  _np_qint8 = np.dtype([(\"qint8\", np.int8, 1)])\n",
      "C:\\Users\\bddwy\\anaconda3\\envs\\tfboy\\lib\\site-packages\\tensorflow\\python\\framework\\dtypes.py:527: FutureWarning: Passing (type, 1) or '1type' as a synonym of type is deprecated; in a future version of numpy, it will be understood as (type, (1,)) / '(1,)type'.\n",
      "  _np_quint8 = np.dtype([(\"quint8\", np.uint8, 1)])\n",
      "C:\\Users\\bddwy\\anaconda3\\envs\\tfboy\\lib\\site-packages\\tensorflow\\python\\framework\\dtypes.py:528: FutureWarning: Passing (type, 1) or '1type' as a synonym of type is deprecated; in a future version of numpy, it will be understood as (type, (1,)) / '(1,)type'.\n",
      "  _np_qint16 = np.dtype([(\"qint16\", np.int16, 1)])\n",
      "C:\\Users\\bddwy\\anaconda3\\envs\\tfboy\\lib\\site-packages\\tensorflow\\python\\framework\\dtypes.py:529: FutureWarning: Passing (type, 1) or '1type' as a synonym of type is deprecated; in a future version of numpy, it will be understood as (type, (1,)) / '(1,)type'.\n",
      "  _np_quint16 = np.dtype([(\"quint16\", np.uint16, 1)])\n",
      "C:\\Users\\bddwy\\anaconda3\\envs\\tfboy\\lib\\site-packages\\tensorflow\\python\\framework\\dtypes.py:530: FutureWarning: Passing (type, 1) or '1type' as a synonym of type is deprecated; in a future version of numpy, it will be understood as (type, (1,)) / '(1,)type'.\n",
      "  _np_qint32 = np.dtype([(\"qint32\", np.int32, 1)])\n",
      "C:\\Users\\bddwy\\anaconda3\\envs\\tfboy\\lib\\site-packages\\tensorflow\\python\\framework\\dtypes.py:535: FutureWarning: Passing (type, 1) or '1type' as a synonym of type is deprecated; in a future version of numpy, it will be understood as (type, (1,)) / '(1,)type'.\n",
      "  np_resource = np.dtype([(\"resource\", np.ubyte, 1)])\n"
     ]
    }
   ],
   "source": [
    "from tensorflow.examples.tutorials.mnist import input_data\n",
    "import tensorflow as tf "
   ]
  },
  {
   "cell_type": "code",
   "execution_count": 5,
   "metadata": {},
   "outputs": [
    {
     "name": "stdout",
     "output_type": "stream",
     "text": [
      "Extracting data/MNIST_data/train-images-idx3-ubyte.gz\n",
      "Extracting data/MNIST_data/train-labels-idx1-ubyte.gz\n",
      "Extracting data/MNIST_data/t10k-images-idx3-ubyte.gz\n",
      "Extracting data/MNIST_data/t10k-labels-idx1-ubyte.gz\n"
     ]
    },
    {
     "name": "stderr",
     "output_type": "stream",
     "text": [
      "C:\\Users\\bddwy\\anaconda3\\envs\\tfboy\\lib\\site-packages\\tensorflow\\python\\client\\session.py:1702: UserWarning: An interactive session is already active. This can cause out-of-memory errors in some cases. You must explicitly call `InteractiveSession.close()` to release resources held by the other session(s).\n",
      "  warnings.warn('An interactive session is already active. This can '\n"
     ]
    }
   ],
   "source": [
    "\n",
    "#导入数据，创建一个session对象　，之后的运算都会跑在这个session里\n",
    "mnist = input_data.read_data_sets(\"data/MNIST_data/\",one_hot=True)\n",
    "sess = tf.InteractiveSession()     #交互式的session可以在里面写计算图\n",
    "\n",
    "#定义一个函数，用于初始化所有的权值 W,这里我们给权重添加了一个截断的正态分布噪声　标准差为0.1\n",
    "def weight_variable(shape):\n",
    "    initial = tf.truncated_normal(shape,stddev=0.1)\n",
    "    return tf.Variable(initial)\n",
    "\n",
    "#定义一个函数，用于初始化所有的偏置项 b，这里给偏置加了一个正值0.1来避免死亡节点\n",
    "def bias_variable(shape):\n",
    "    inital = tf.constant(0.1,shape=shape)\n",
    "    return tf.Variable(inital)\n",
    "\n",
    "#定义一个函数，用于构建卷积层，这里strides都是１　代表不遗漏的划过图像的每一个点\n",
    "def conv2d(x,w):\n",
    "    return tf.nn.conv2d(x,w,strides=[1,1,1,1],padding='SAME')      #表示输出与输入图的大小保持不变\n",
    "\n",
    "#定义一个函数，用于构建池化层\n",
    "def max_pool_2x2(x):\n",
    "    return tf.nn.max_pool(x,ksize=[1,2,2,1],strides=[1,2,2,1],padding='SAME')\n"
   ]
  },
  {
   "cell_type": "markdown",
   "metadata": {},
   "source": [
    "### 2. 定义计算图的输入部分\n",
    "- 本例中用到了`tf.placeholder()`占位符，占位符使用时，请注意参数中的`dtype`必须指定\n",
    "- 下面的代码将11 feed 给 a\n",
    "```python\n",
    "tf.placeholder(dtype, shape=None, name=None)\n",
    "a = tf.placeholder(shape=[],dtype=tf.int32,name='a') #必须指定的是dtype\n",
    "print(a)\n",
    "with tf.Session() as sess:\n",
    "    print(sess.run(a,feed_dict={a:11}))\n",
    "```"
   ]
  },
  {
   "cell_type": "code",
   "execution_count": 4,
   "metadata": {},
   "outputs": [
    {
     "name": "stdout",
     "output_type": "stream",
     "text": [
      "Tensor(\"Reshape:0\", shape=(?, 28, 28, 1), dtype=float32)\n"
     ]
    }
   ],
   "source": [
    "#placceholder 基本都是用于占位符　后面用到先定义\n",
    "\n",
    "#将数据reshape成适合的维度来进行后续的计算\n",
    "x = tf.placeholder(tf.float32,[None,784])#\n",
    "y_ = tf.placeholder(tf.float32,[None,10])\n",
    "x_image = tf.reshape(x,[-1,28,28,1]) #其中的-1表示“目前不确定”，所以在运行的时候程序先考虑后面的28,28和1\n",
    "print(x_image)"
   ]
  },
  {
   "cell_type": "markdown",
   "metadata": {},
   "source": [
    "### 3. 网络定义\n",
    "- 注意w，b的参数维度设置\n",
    "- 注意激活的位置\n",
    "- 注意softmax的位置\n",
    "- 简单推导下所需要的参数数量"
   ]
  },
  {
   "cell_type": "code",
   "execution_count": 6,
   "metadata": {},
   "outputs": [
    {
     "name": "stdout",
     "output_type": "stream",
     "text": [
      "WARNING:tensorflow:From C:\\Users\\bddwy\\anaconda3\\envs\\tfboy\\lib\\site-packages\\tensorflow\\python\\framework\\op_def_library.py:263: colocate_with (from tensorflow.python.framework.ops) is deprecated and will be removed in a future version.\n",
      "Instructions for updating:\n",
      "Colocations handled automatically by placer.\n",
      "WARNING:tensorflow:From <ipython-input-6-6ee9695d80a0>:24: calling dropout (from tensorflow.python.ops.nn_ops) with keep_prob is deprecated and will be removed in a future version.\n",
      "Instructions for updating:\n",
      "Please use `rate` instead of `keep_prob`. Rate should be set to `rate = 1 - keep_prob`.\n",
      "WARNING:tensorflow:From C:\\Users\\bddwy\\anaconda3\\envs\\tfboy\\lib\\site-packages\\tensorflow\\python\\ops\\math_ops.py:3066: to_int32 (from tensorflow.python.ops.math_ops) is deprecated and will be removed in a future version.\n",
      "Instructions for updating:\n",
      "Use tf.cast instead.\n",
      "WARNING:tensorflow:From C:\\Users\\bddwy\\anaconda3\\envs\\tfboy\\lib\\site-packages\\tensorflow\\python\\util\\tf_should_use.py:193: initialize_all_variables (from tensorflow.python.ops.variables) is deprecated and will be removed after 2017-03-02.\n",
      "Instructions for updating:\n",
      "Use `tf.global_variables_initializer` instead.\n"
     ]
    }
   ],
   "source": [
    "#第一个卷积层的定义\n",
    "#Given an input tensor of shape `[batch, in_height, in_width, in_channels]`\n",
    "#and a filter / kernel tensor of shape\n",
    "#`[filter_height, filter_width, in_channels, out_channels]\n",
    "W_conv1 = weight_variable([5,5,1,32])  #参数是shape                              \n",
    "b_conv1 = bias_variable([32])\n",
    "h_conv1 = tf.nn.relu(conv2d(x_image,W_conv1) + b_conv1)               #卷积计算，激活函数为relu\n",
    "h_pool1 = max_pool_2x2(h_conv1)                           #参数是池化的对象\n",
    "\n",
    "#第二个卷积层的定义\n",
    "W_conv2 = weight_variable([5,5,32,64])\n",
    "b_conv2 = bias_variable([64])\n",
    "h_conv2 = tf.nn.relu(conv2d(h_pool1,W_conv2) + b_conv2)\n",
    "h_pool2 = max_pool_2x2(h_conv2)\n",
    "\n",
    "#第一个全连接层的定义\n",
    "h_pool2_flat = tf.reshape(h_pool2,[-1,7*7*64])   #压平，展开\n",
    "W_fc1 = weight_variable([7*7*64,1024])   #全连接层输入x输出个权重\n",
    "b_fc1 = bias_variable([1024])\n",
    "h_fc1 = tf.nn.relu(tf.matmul(h_pool2_flat,W_fc1) + b_fc1)\n",
    "\n",
    "#将第一个全连接层　进行dropout　随机丢掉一些神经元不参与运算\n",
    "keep_prob = tf.placeholder(tf.float32)\n",
    "h_fc1_drop = tf.nn.dropout(h_fc1,keep_prob)  #丢掉一些神经元\n",
    "\n",
    "#第二个全连接层　分为十类数据　softmax后输出概率最大的数字\n",
    "W_fc2 = weight_variable([1024,10])\n",
    "b_fc2 = bias_variable([10])\n",
    "y_conv = tf.nn.softmax(tf.matmul(h_fc1_drop, W_fc2) + b_fc2)\n",
    "\n",
    "cross_entropy = tf.reduce_mean(-tf.reduce_sum(y_ * tf.log(y_conv),reduction_indices=[1]))        #交叉熵\n",
    "train_step = tf.train.AdamOptimizer(1e-4).minimize(cross_entropy)             #这里用Ａdam优化器优化　也可以使用随机梯度下降\n",
    "\n",
    "correct_predition = tf.equal(tf.argmax(y_conv,1),tf.argmax(y_,1))\n",
    "accuracy = tf.reduce_mean(tf.cast(correct_predition,tf.float32))                                #准确率\n",
    "\n",
    "tf.initialize_all_variables().run()  \n",
    "#sess.run(tf.initialize_all_variables())#使用全局参数初始化器　并调用run方法　来进行参数初始化\n"
   ]
  },
  {
   "cell_type": "markdown",
   "metadata": {},
   "source": [
    "### 4.开始训练并用测试集测试精度\n",
    "- 再次注意当使用`sess = tf.InteractiveSession()`时，开启计算会话的方式,下面俩种都可以\n",
    "   - `train_accuracy = accuracy.eval(feed_dict={x:batch[0],y_:batch[1],keep_prob:1.0})`\n",
    "   - `train_accuracy = sess.run(accuracy,feed_dict={x:batch[0],y_:batch[1],keep_prob:1.0})`"
   ]
  },
  {
   "cell_type": "code",
   "execution_count": 10,
   "metadata": {},
   "outputs": [
    {
     "name": "stdout",
     "output_type": "stream",
     "text": [
      "step 0,training accuracy 0.96\n",
      "step 100,training accuracy 0.98\n",
      "step 200,training accuracy 1\n",
      "step 300,training accuracy 1\n",
      "step 400,training accuracy 0.98\n",
      "step 500,training accuracy 1\n",
      "step 600,training accuracy 0.98\n",
      "step 700,training accuracy 0.98\n",
      "step 800,training accuracy 0.92\n",
      "step 900,training accuracy 1\n",
      "test accuracy 1\n"
     ]
    }
   ],
   "source": [
    "for i in range(1000):\n",
    "    batch = mnist.train.next_batch(50)\n",
    "    if i%100 == 0:\n",
    "        train_accuracy = accuracy.eval(feed_dict={x:batch[0],y_:batch[1],keep_prob:1.0})        #每一百次打印一下准确率\n",
    "        print(\"step %d,training accuracy %g\"%(i,train_accuracy))\n",
    "        train_summary = sess.run(accuracy, feed_dict={x:batch[0],y_:batch[1],keep_prob:1.0})\n",
    "        \n",
    "\n",
    "    train_step.run(feed_dict={x:batch[0],y_:batch[1],keep_prob:0.5})          #train_step = tf.train.AdamOptimizer(1e-4).minimize(cross_entropy)  \n",
    "    #sess.run(xxxxxxxxxxx)\n",
    "\n",
    "print (\"test accuracy %g\"%accuracy.eval(feed_dict={x:mnist.test.images[:50],y_:mnist.test.labels[:50],keep_prob:1.0}))    #开始测试数据"
   ]
  },
  {
   "cell_type": "markdown",
   "metadata": {},
   "source": [
    "### 5. 使用自己手写的图片验证\n",
    "- 此例同NN_MNIST"
   ]
  },
  {
   "cell_type": "code",
   "execution_count": null,
   "metadata": {},
   "outputs": [],
   "source": [
    "import numpy as np\n",
    "import time\n",
    "import cv2\n",
    "import matplotlib.pyplot as plt"
   ]
  },
  {
   "cell_type": "code",
   "execution_count": null,
   "metadata": {},
   "outputs": [],
   "source": [
    "def make_label(label_num):\n",
    "    label = np.zeros((1, 10),dtype='float32')\n",
    "    label[:,label_num] = 1.0\n",
    "    print(label)\n",
    "    return label\n",
    "\n",
    "label_test = make_label(4)\n",
    "# 图片路径\n",
    "img_path = \"data/MNIST_test/4.png\"\n",
    "img_file = cv2.imread(img_path)\n",
    "print(img_file.shape)\n",
    "img_file = cv2.cvtColor(img_file, cv2.COLOR_RGB2GRAY)\n",
    "print(img_file.shape)\n",
    "img_file = 255 - img_file\n",
    "for row in range(img_file.shape[0]):\n",
    "    for col in range(img_file.shape[1]):\n",
    "        if img_file[row][col] < 120.0:\n",
    "            img_file[row][col] = 0\n",
    "plt.imshow(img_file,'gray')\n",
    "plt.show()\n",
    "data_test = img_file / 255\n",
    "data_test.shape\n",
    "data_test = np.float32(img_file.reshape(1, 28*28))\n",
    "data_test.shape"
   ]
  },
  {
   "cell_type": "code",
   "execution_count": null,
   "metadata": {},
   "outputs": [],
   "source": [
    "test_value = sess.run(y_conv, feed_dict={x:data_test, y_:label_test, keep_prob:1.0})\n",
    "print(test_value)\n",
    "print(\"AI判断的数字是{}\".format(list(test_value[0]).index(test_value[0].max())))"
   ]
  },
  {
   "cell_type": "code",
   "execution_count": null,
   "metadata": {},
   "outputs": [],
   "source": [
    "print (\"test accuracy %g\"%accuracy.eval(feed_dict={x:data_test, y_:label_test, keep_prob:1.0}))"
   ]
  }
 ],
 "metadata": {
  "kernelspec": {
   "display_name": "Python [conda env:tfboy] *",
   "language": "python",
   "name": "conda-env-tfboy-py"
  },
  "language_info": {
   "codemirror_mode": {
    "name": "ipython",
    "version": 3
   },
   "file_extension": ".py",
   "mimetype": "text/x-python",
   "name": "python",
   "nbconvert_exporter": "python",
   "pygments_lexer": "ipython3",
   "version": "3.7.9"
  }
 },
 "nbformat": 4,
 "nbformat_minor": 2
}
