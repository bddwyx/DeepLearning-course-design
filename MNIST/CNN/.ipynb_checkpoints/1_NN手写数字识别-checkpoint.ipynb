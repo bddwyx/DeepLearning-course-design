{
 "cells": [
  {
   "cell_type": "markdown",
   "metadata": {},
   "source": [
    "# 自由手写数字识别\n",
    "MNIST数据集请点击[这里查看](http://yann.lecun.com/exdb/mnist/)"
   ]
  },
  {
   "cell_type": "markdown",
   "metadata": {},
   "source": [
    "## 本demo主要是通过输入自己的手写数字图片，使用多层神经网络模型进行识别"
   ]
  },
  {
   "cell_type": "markdown",
   "metadata": {},
   "source": [
    "### 环境配置 numpy和tf加载"
   ]
  },
  {
   "cell_type": "code",
   "execution_count": null,
   "metadata": {},
   "outputs": [],
   "source": [
    "import numpy as np\n",
    "import tensorflow as tf\n",
    "from tensorflow.examples.tutorials.mnist import input_data\n",
    "import time\n",
    "import cv2\n",
    "import matplotlib.pyplot as plt"
   ]
  },
  {
   "cell_type": "markdown",
   "metadata": {},
   "source": [
    "### 下载数据 "
   ]
  },
  {
   "cell_type": "code",
   "execution_count": null,
   "metadata": {
    "scrolled": true
   },
   "outputs": [],
   "source": [
    "mnist = input_data.read_data_sets(\"data/MNIST_data/\", one_hot=True) #调用input_data的read_data_sets函数下载数据集"
   ]
  },
  {
   "cell_type": "markdown",
   "metadata": {},
   "source": [
    "### 查看下下载的mnist数据结构\n",
    "- 查看数据集中trian test validation的大小\n",
    "- 查看某一个样本并显示"
   ]
  },
  {
   "cell_type": "code",
   "execution_count": null,
   "metadata": {},
   "outputs": [],
   "source": [
    "import matplotlib.pyplot as plt\n",
    "print(mnist.train.images.shape)          #mnist里已分好train和validation,看一下shape\n",
    "print(mnist.train.labels.shape)\n",
    "print(mnist.validation.images.shape)\n",
    "print(mnist.validation.labels.shape)\n",
    "print(mnist.test.images.shape)\n",
    "print(mnist.test.labels.shape)\n",
    "image = mnist.train.images[54999].reshape(28,28)\n",
    "plt.imshow(image)\n",
    "plt.show()"
   ]
  },
  {
   "cell_type": "markdown",
   "metadata": {},
   "source": [
    "## 读取图片文件"
   ]
  },
  {
   "cell_type": "markdown",
   "metadata": {},
   "source": [
    "- 给你自己输入的图片加label--make_label函数\n",
    "- 将你自己输入的图片取反并转成1x784的数组"
   ]
  },
  {
   "cell_type": "code",
   "execution_count": null,
   "metadata": {},
   "outputs": [],
   "source": [
    "def make_label(label_num):\n",
    "    label = np.zeros((1, 10),dtype='float32')\n",
    "    label[:,label_num] = 1.0\n",
    "    print(label)\n",
    "    return label\n",
    "\n",
    "label_test = make_label(4)\n",
    "# 图片路径\n",
    "img_path = \"data/MNIST_test/4.png\"\n",
    "img_file = cv2.imread(img_path)\n",
    "print(img_file.shape)\n",
    "img_file = cv2.cvtColor(img_file, cv2.COLOR_RGB2GRAY)\n",
    "print(img_file.shape)\n",
    "img_file = 255 - img_file\n",
    "for row in range(img_file.shape[0]):\n",
    "    for col in range(img_file.shape[1]):\n",
    "        if img_file[row][col] < 120.0:\n",
    "            img_file[row][col] = 0\n",
    "plt.imshow(img_file,'gray')\n",
    "plt.show()\n",
    "data_test = img_file / 255\n",
    "data_test = np.float32(img_file.reshape(1, 28*28))\n",
    "data_test.shape"
   ]
  },
  {
   "cell_type": "markdown",
   "metadata": {},
   "source": [
    "## 创建DNN模型\n",
    "* 设定输入节点数、隐含层节点数、训练迭代次数这三个超参\n",
    "* 创建两个tf.Variable 作为W和B\n",
    "* 创建三个tf.placeholder 作为数据x，标签label，onehot保留系数keep_prob"
   ]
  },
  {
   "cell_type": "code",
   "execution_count": null,
   "metadata": {},
   "outputs": [],
   "source": [
    "input_num = 784\n",
    "h1_num = 10\n",
    "epochs = 1000\n",
    "batch_num = 1000\n",
    "lr = 0.09"
   ]
  },
  {
   "cell_type": "code",
   "execution_count": null,
   "metadata": {},
   "outputs": [],
   "source": [
    "W1 = tf.Variable(tf.truncated_normal([input_num, h1_num],stddev=0.1))\n",
    "B1 = tf.Variable(tf.zeros([h1_num]))\n",
    "x = tf.placeholder(tf.float32, [None, input_num])\n",
    "keep_prob = tf.placeholder(tf.float32)\n",
    "label = tf.placeholder(tf.float32, [None,10])\n",
    "\n",
    "hidden1 = tf.matmul(x,W1) + B1\n",
    "hidden1_drop = tf.nn.dropout(hidden1, keep_prob)\n",
    "y = tf.nn.softmax(hidden1)\n",
    "\n",
    "cross_entropy = tf.reduce_mean(-tf.reduce_sum(label * tf.log(y), reduction_indices=[1]))\n",
    "train_step = tf.train.AdagradOptimizer(lr).minimize(cross_entropy)   \n",
    "#train_step = tf.train.GradientDescentOptimizer(lr).minimize(cross_entropy)"
   ]
  },
  {
   "cell_type": "markdown",
   "metadata": {},
   "source": [
    "### 创建session并开始训练"
   ]
  },
  {
   "cell_type": "code",
   "execution_count": null,
   "metadata": {
    "scrolled": true
   },
   "outputs": [],
   "source": [
    "#with tf.Session() as sess:\n",
    "sess = tf.Session()\n",
    "start = time.time()\n",
    "sess.run(tf.global_variables_initializer())\n",
    "for epoch in range(epochs):\n",
    "    batch_xs, batch_ys = mnist.train.next_batch(batch_num)\n",
    "    _,cost = sess.run([train_step, cross_entropy], feed_dict={x: batch_xs, label: batch_ys, keep_prob:1})\n",
    "    if epoch % 100 == 0:\n",
    "        print(\"epoch: {}, loss: {:.2f}\".format(epoch, cost))\n",
    "\n",
    "stop = time.time()\n",
    "correct_prediction = tf.equal(tf.argmax(y,1), tf.argmax(label,1))\n",
    "accuracy = tf.reduce_mean(tf.cast(correct_prediction, tf.float32))\n",
    "predict_acc = sess.run(accuracy, feed_dict={x: mnist.test.images, label: mnist.test.labels, keep_prob:1.0})\n",
    "print(\"测试集准确度为：{:.2f}%\".format(predict_acc * 100))\n",
    "print(\"程序耗时：{:.2f}秒\".format(stop-start))\n"
   ]
  },
  {
   "cell_type": "code",
   "execution_count": null,
   "metadata": {},
   "outputs": [],
   "source": [
    "test_acc,test_value = sess.run([accuracy,y], feed_dict={x:data_test, label:label_test, keep_prob:1.0})\n",
    "print(\"自己的手写字测试准确度为:{:.2f}%\".format(test_acc * 100))\n",
    "print(\"自己的手写字测试准确度为:{}\".format(test_value))"
   ]
  },
  {
   "cell_type": "code",
   "execution_count": null,
   "metadata": {},
   "outputs": [],
   "source": [
    "print(\"AI判断的数字是{}\".format(list(test_value[0]).index(test_value[0].max())))\n",
    "sess.close()"
   ]
  },
  {
   "cell_type": "code",
   "execution_count": null,
   "metadata": {},
   "outputs": [],
   "source": []
  }
 ],
 "metadata": {
  "kernelspec": {
   "display_name": "Python 3",
   "language": "python",
   "name": "python3"
  },
  "language_info": {
   "codemirror_mode": {
    "name": "ipython",
    "version": 3
   },
   "file_extension": ".py",
   "mimetype": "text/x-python",
   "name": "python",
   "nbconvert_exporter": "python",
   "pygments_lexer": "ipython3",
   "version": "3.7.4"
  }
 },
 "nbformat": 4,
 "nbformat_minor": 2
}
